{
 "cells": [
  {
   "cell_type": "markdown",
   "metadata": {},
   "source": [
    "In this notebook I will consider 5 classifiers to predict actions based on state information. Initially I will test their accuracy on the training data but later in the notebook I make my final evaluation on their performance on the unseen test data. This evaluation is completed in one cell for readability but could have also been done when training data was being evaluated for each classifier"
   ]
  },
  {
   "cell_type": "code",
   "execution_count": 1,
   "metadata": {},
   "outputs": [
    {
     "name": "stderr",
     "output_type": "stream",
     "text": [
      "/Users/ajeffares/anaconda/lib/python3.5/site-packages/h5py/__init__.py:36: FutureWarning: Conversion of the second argument of issubdtype from `float` to `np.floating` is deprecated. In future, it will be treated as `np.float64 == np.dtype(float).type`.\n",
      "  from ._conv import register_converters as _register_converters\n",
      "Using TensorFlow backend.\n"
     ]
    }
   ],
   "source": [
    "import pandas as pd\n",
    "import numpy as np\n",
    "from sklearn.model_selection import train_test_split\n",
    "\n",
    "from sklearn import tree\n",
    "from sklearn import metrics\n",
    "from sklearn import ensemble\n",
    "from sklearn.model_selection import GridSearchCV\n",
    "\n",
    "from keras.utils.np_utils import to_categorical\n",
    "from keras.models import Sequential\n",
    "from keras.layers import Dense, Activation, Merge, Dropout, Flatten\n",
    "from keras.optimizers import RMSprop, adam\n",
    "\n",
    "from sklearn.externals import joblib\n"
   ]
  },
  {
   "cell_type": "code",
   "execution_count": 2,
   "metadata": {},
   "outputs": [],
   "source": [
    "def frange(start, stop, step):\n",
    "     i = start\n",
    "     while i < stop:\n",
    "         yield i\n",
    "         i += step"
   ]
  },
  {
   "cell_type": "code",
   "execution_count": 3,
   "metadata": {},
   "outputs": [],
   "source": [
    "data_sampling_rate = 0.5"
   ]
  },
  {
   "cell_type": "code",
   "execution_count": 4,
   "metadata": {},
   "outputs": [
    {
     "data": {
      "text/html": [
       "<div>\n",
       "<style scoped>\n",
       "    .dataframe tbody tr th:only-of-type {\n",
       "        vertical-align: middle;\n",
       "    }\n",
       "\n",
       "    .dataframe tbody tr th {\n",
       "        vertical-align: top;\n",
       "    }\n",
       "\n",
       "    .dataframe thead th {\n",
       "        text-align: right;\n",
       "    }\n",
       "</style>\n",
       "<table border=\"1\" class=\"dataframe\">\n",
       "  <thead>\n",
       "    <tr style=\"text-align: right;\">\n",
       "      <th></th>\n",
       "      <th>step</th>\n",
       "      <th>pos_x</th>\n",
       "      <th>pos_y</th>\n",
       "      <th>vel_x</th>\n",
       "      <th>vel_y</th>\n",
       "      <th>ship_lander_angle</th>\n",
       "      <th>ship_lander_angular_vel</th>\n",
       "      <th>leg_1_ground_contact</th>\n",
       "      <th>leg_2_ground_contact</th>\n",
       "      <th>action</th>\n",
       "    </tr>\n",
       "  </thead>\n",
       "  <tbody>\n",
       "    <tr>\n",
       "      <th>86816</th>\n",
       "      <td>76</td>\n",
       "      <td>0.173908</td>\n",
       "      <td>0.416632</td>\n",
       "      <td>-0.172839</td>\n",
       "      <td>-0.435367</td>\n",
       "      <td>0.226505</td>\n",
       "      <td>-0.142227</td>\n",
       "      <td>0.0</td>\n",
       "      <td>0.0</td>\n",
       "      <td>2</td>\n",
       "    </tr>\n",
       "    <tr>\n",
       "      <th>140657</th>\n",
       "      <td>122</td>\n",
       "      <td>0.099441</td>\n",
       "      <td>0.216432</td>\n",
       "      <td>-0.351624</td>\n",
       "      <td>-0.242789</td>\n",
       "      <td>-0.070100</td>\n",
       "      <td>-0.150692</td>\n",
       "      <td>0.0</td>\n",
       "      <td>0.0</td>\n",
       "      <td>0</td>\n",
       "    </tr>\n",
       "    <tr>\n",
       "      <th>9676</th>\n",
       "      <td>438</td>\n",
       "      <td>-0.762850</td>\n",
       "      <td>0.090831</td>\n",
       "      <td>-0.445371</td>\n",
       "      <td>0.205027</td>\n",
       "      <td>-0.254618</td>\n",
       "      <td>-0.097402</td>\n",
       "      <td>0.0</td>\n",
       "      <td>0.0</td>\n",
       "      <td>2</td>\n",
       "    </tr>\n",
       "    <tr>\n",
       "      <th>182420</th>\n",
       "      <td>1312</td>\n",
       "      <td>0.231822</td>\n",
       "      <td>0.054275</td>\n",
       "      <td>0.028891</td>\n",
       "      <td>-0.006563</td>\n",
       "      <td>0.088737</td>\n",
       "      <td>0.062424</td>\n",
       "      <td>0.0</td>\n",
       "      <td>0.0</td>\n",
       "      <td>0</td>\n",
       "    </tr>\n",
       "    <tr>\n",
       "      <th>191860</th>\n",
       "      <td>128</td>\n",
       "      <td>0.034734</td>\n",
       "      <td>0.141237</td>\n",
       "      <td>-0.311238</td>\n",
       "      <td>-0.246594</td>\n",
       "      <td>-0.198355</td>\n",
       "      <td>-0.057676</td>\n",
       "      <td>0.0</td>\n",
       "      <td>0.0</td>\n",
       "      <td>2</td>\n",
       "    </tr>\n",
       "  </tbody>\n",
       "</table>\n",
       "</div>"
      ],
      "text/plain": [
       "        step     pos_x     pos_y     vel_x     vel_y  ship_lander_angle  \\\n",
       "86816     76  0.173908  0.416632 -0.172839 -0.435367           0.226505   \n",
       "140657   122  0.099441  0.216432 -0.351624 -0.242789          -0.070100   \n",
       "9676     438 -0.762850  0.090831 -0.445371  0.205027          -0.254618   \n",
       "182420  1312  0.231822  0.054275  0.028891 -0.006563           0.088737   \n",
       "191860   128  0.034734  0.141237 -0.311238 -0.246594          -0.198355   \n",
       "\n",
       "        ship_lander_angular_vel  leg_1_ground_contact  leg_2_ground_contact  \\\n",
       "86816                 -0.142227                   0.0                   0.0   \n",
       "140657                -0.150692                   0.0                   0.0   \n",
       "9676                  -0.097402                   0.0                   0.0   \n",
       "182420                 0.062424                   0.0                   0.0   \n",
       "191860                -0.057676                   0.0                   0.0   \n",
       "\n",
       "        action  \n",
       "86816        2  \n",
       "140657       0  \n",
       "9676         2  \n",
       "182420       0  \n",
       "191860       2  "
      ]
     },
     "metadata": {},
     "output_type": "display_data"
    }
   ],
   "source": [
    "dataset = pd.read_csv('LunarLAnderStateVectors.csv')\n",
    "dataset = dataset.sample(frac=data_sampling_rate) #take a sample from the dataset so everyhting runs smoothly\n",
    "num_classes = 4\n",
    "classes = {0: \"None\", 1:\"Up\", 2: \"Left\", 3:\"Right\"}\n",
    "display(dataset.head())"
   ]
  },
  {
   "cell_type": "code",
   "execution_count": 5,
   "metadata": {},
   "outputs": [],
   "source": [
    "X = dataset[dataset.columns[:-1]]\n",
    "Y = np.array(dataset[\"action\"])\n",
    "del X[\"step\"]\n",
    "X_train, X_test, Y_train, Y_test = train_test_split(X, Y, test_size=0.33)"
   ]
  },
  {
   "cell_type": "markdown",
   "metadata": {},
   "source": [
    "Fitting a decision tree classifier"
   ]
  },
  {
   "cell_type": "code",
   "execution_count": 6,
   "metadata": {},
   "outputs": [
    {
     "name": "stdout",
     "output_type": "stream",
     "text": [
      "Best parameters set found on development set:\n"
     ]
    },
    {
     "data": {
      "text/plain": [
       "{'criterion': 'gini', 'max_depth': 18, 'min_samples_split': 10}"
      ]
     },
     "metadata": {},
     "output_type": "display_data"
    },
    {
     "data": {
      "text/plain": [
       "0.84913834029624"
      ]
     },
     "metadata": {},
     "output_type": "display_data"
    },
    {
     "data": {
      "text/plain": [
       "{'mean_fit_time': array([0.14686346, 0.12785399, 0.13654196, 0.13573647, 0.2686584 ,\n",
       "        0.23207748, 0.22453439, 0.24309957, 0.32598794, 0.31247342,\n",
       "        0.53615999, 0.44737494, 0.53211999, 0.41102552, 0.38347745,\n",
       "        0.39058101, 0.46206248, 0.47428596, 0.45007443, 0.455585  ,\n",
       "        0.59203947, 0.57077396, 0.56840801, 0.52242196, 0.20179904,\n",
       "        0.20936954, 0.19710648, 0.19878697, 0.35131991, 0.35056162,\n",
       "        0.33425748, 0.3793025 , 1.21491146, 0.54101896, 0.54709947,\n",
       "        0.57474744, 0.88090992, 0.58439338, 0.5509181 , 0.61987054,\n",
       "        0.6657865 , 0.700773  , 0.66014206, 0.66323197, 1.17833507,\n",
       "        0.76869702, 0.87402999, 0.71141303]),\n",
       " 'mean_score_time': array([0.00636303, 0.00523901, 0.00546944, 0.006091  , 0.00575304,\n",
       "        0.00617301, 0.00573206, 0.00675499, 0.00664055, 0.00842059,\n",
       "        0.01395345, 0.00744748, 0.01387298, 0.00870705, 0.0088551 ,\n",
       "        0.00840449, 0.01027596, 0.00979197, 0.00997996, 0.00882006,\n",
       "        0.012622  , 0.0214864 , 0.01042342, 0.01034606, 0.00545204,\n",
       "        0.00609946, 0.00509953, 0.00503492, 0.00767744, 0.00577545,\n",
       "        0.00568449, 0.00789046, 0.00959194, 0.00769305, 0.00775802,\n",
       "        0.00789952, 0.01401412, 0.00788963, 0.00772297, 0.00842547,\n",
       "        0.00862503, 0.00939846, 0.00949907, 0.01361501, 0.01869845,\n",
       "        0.01027346, 0.00952148, 0.01043057]),\n",
       " 'mean_test_score': array([0.75753656, 0.75753656, 0.75753656, 0.75753656, 0.7764907 ,\n",
       "        0.7764907 , 0.7764907 , 0.77639575, 0.8149568 , 0.81486185,\n",
       "        0.81452953, 0.81380555, 0.8328309 , 0.83233242, 0.83243923,\n",
       "        0.82909229, 0.83937049, 0.83961973, 0.83867024, 0.83548946,\n",
       "        0.84748861, 0.84913834, 0.84879415, 0.84513863, 0.75440325,\n",
       "        0.75440325, 0.75440325, 0.75440325, 0.7802293 , 0.7802293 ,\n",
       "        0.7802293 , 0.7802293 , 0.80257786, 0.80277962, 0.80211498,\n",
       "        0.80103494, 0.81691512, 0.81685577, 0.81576386, 0.81264242,\n",
       "        0.82898547, 0.82911603, 0.82835644, 0.82356153, 0.83585739,\n",
       "        0.83636774, 0.8359642 , 0.82883118]),\n",
       " 'mean_train_score': array([0.75820117, 0.75820117, 0.75820117, 0.75820117, 0.78043087,\n",
       "        0.780419  , 0.780419  , 0.78034779, 0.82688467, 0.82661169,\n",
       "        0.82614881, 0.82434479, 0.86529142, 0.86333311, 0.85944021,\n",
       "        0.85127462, 0.90289114, 0.8964821 , 0.88593092, 0.86930299,\n",
       "        0.94153523, 0.92935806, 0.91273016, 0.88850637, 0.75507974,\n",
       "        0.75507974, 0.75507974, 0.75507974, 0.78224692, 0.78224692,\n",
       "        0.78221131, 0.78221131, 0.81292722, 0.81272546, 0.81198961,\n",
       "        0.80998383, 0.84676457, 0.84526913, 0.84227825, 0.83546567,\n",
       "        0.89581742, 0.88909979, 0.87815696, 0.86033034, 0.940562  ,\n",
       "        0.92688939, 0.90627367, 0.87578327]),\n",
       " 'param_criterion': masked_array(data=['gini', 'gini', 'gini', 'gini', 'gini', 'gini', 'gini',\n",
       "                    'gini', 'gini', 'gini', 'gini', 'gini', 'gini', 'gini',\n",
       "                    'gini', 'gini', 'gini', 'gini', 'gini', 'gini', 'gini',\n",
       "                    'gini', 'gini', 'gini', 'entropy', 'entropy',\n",
       "                    'entropy', 'entropy', 'entropy', 'entropy', 'entropy',\n",
       "                    'entropy', 'entropy', 'entropy', 'entropy', 'entropy',\n",
       "                    'entropy', 'entropy', 'entropy', 'entropy', 'entropy',\n",
       "                    'entropy', 'entropy', 'entropy', 'entropy', 'entropy',\n",
       "                    'entropy', 'entropy'],\n",
       "              mask=[False, False, False, False, False, False, False, False,\n",
       "                    False, False, False, False, False, False, False, False,\n",
       "                    False, False, False, False, False, False, False, False,\n",
       "                    False, False, False, False, False, False, False, False,\n",
       "                    False, False, False, False, False, False, False, False,\n",
       "                    False, False, False, False, False, False, False, False],\n",
       "        fill_value='?',\n",
       "             dtype=object),\n",
       " 'param_max_depth': masked_array(data=[3, 3, 3, 3, 6, 6, 6, 6, 9, 9, 9, 9, 12, 12, 12, 12, 15,\n",
       "                    15, 15, 15, 18, 18, 18, 18, 3, 3, 3, 3, 6, 6, 6, 6, 9,\n",
       "                    9, 9, 9, 12, 12, 12, 12, 15, 15, 15, 15, 18, 18, 18,\n",
       "                    18],\n",
       "              mask=[False, False, False, False, False, False, False, False,\n",
       "                    False, False, False, False, False, False, False, False,\n",
       "                    False, False, False, False, False, False, False, False,\n",
       "                    False, False, False, False, False, False, False, False,\n",
       "                    False, False, False, False, False, False, False, False,\n",
       "                    False, False, False, False, False, False, False, False],\n",
       "        fill_value='?',\n",
       "             dtype=object),\n",
       " 'param_min_samples_split': masked_array(data=[5, 10, 20, 50, 5, 10, 20, 50, 5, 10, 20, 50, 5, 10, 20,\n",
       "                    50, 5, 10, 20, 50, 5, 10, 20, 50, 5, 10, 20, 50, 5, 10,\n",
       "                    20, 50, 5, 10, 20, 50, 5, 10, 20, 50, 5, 10, 20, 50, 5,\n",
       "                    10, 20, 50],\n",
       "              mask=[False, False, False, False, False, False, False, False,\n",
       "                    False, False, False, False, False, False, False, False,\n",
       "                    False, False, False, False, False, False, False, False,\n",
       "                    False, False, False, False, False, False, False, False,\n",
       "                    False, False, False, False, False, False, False, False,\n",
       "                    False, False, False, False, False, False, False, False],\n",
       "        fill_value='?',\n",
       "             dtype=object),\n",
       " 'params': [{'criterion': 'gini', 'max_depth': 3, 'min_samples_split': 5},\n",
       "  {'criterion': 'gini', 'max_depth': 3, 'min_samples_split': 10},\n",
       "  {'criterion': 'gini', 'max_depth': 3, 'min_samples_split': 20},\n",
       "  {'criterion': 'gini', 'max_depth': 3, 'min_samples_split': 50},\n",
       "  {'criterion': 'gini', 'max_depth': 6, 'min_samples_split': 5},\n",
       "  {'criterion': 'gini', 'max_depth': 6, 'min_samples_split': 10},\n",
       "  {'criterion': 'gini', 'max_depth': 6, 'min_samples_split': 20},\n",
       "  {'criterion': 'gini', 'max_depth': 6, 'min_samples_split': 50},\n",
       "  {'criterion': 'gini', 'max_depth': 9, 'min_samples_split': 5},\n",
       "  {'criterion': 'gini', 'max_depth': 9, 'min_samples_split': 10},\n",
       "  {'criterion': 'gini', 'max_depth': 9, 'min_samples_split': 20},\n",
       "  {'criterion': 'gini', 'max_depth': 9, 'min_samples_split': 50},\n",
       "  {'criterion': 'gini', 'max_depth': 12, 'min_samples_split': 5},\n",
       "  {'criterion': 'gini', 'max_depth': 12, 'min_samples_split': 10},\n",
       "  {'criterion': 'gini', 'max_depth': 12, 'min_samples_split': 20},\n",
       "  {'criterion': 'gini', 'max_depth': 12, 'min_samples_split': 50},\n",
       "  {'criterion': 'gini', 'max_depth': 15, 'min_samples_split': 5},\n",
       "  {'criterion': 'gini', 'max_depth': 15, 'min_samples_split': 10},\n",
       "  {'criterion': 'gini', 'max_depth': 15, 'min_samples_split': 20},\n",
       "  {'criterion': 'gini', 'max_depth': 15, 'min_samples_split': 50},\n",
       "  {'criterion': 'gini', 'max_depth': 18, 'min_samples_split': 5},\n",
       "  {'criterion': 'gini', 'max_depth': 18, 'min_samples_split': 10},\n",
       "  {'criterion': 'gini', 'max_depth': 18, 'min_samples_split': 20},\n",
       "  {'criterion': 'gini', 'max_depth': 18, 'min_samples_split': 50},\n",
       "  {'criterion': 'entropy', 'max_depth': 3, 'min_samples_split': 5},\n",
       "  {'criterion': 'entropy', 'max_depth': 3, 'min_samples_split': 10},\n",
       "  {'criterion': 'entropy', 'max_depth': 3, 'min_samples_split': 20},\n",
       "  {'criterion': 'entropy', 'max_depth': 3, 'min_samples_split': 50},\n",
       "  {'criterion': 'entropy', 'max_depth': 6, 'min_samples_split': 5},\n",
       "  {'criterion': 'entropy', 'max_depth': 6, 'min_samples_split': 10},\n",
       "  {'criterion': 'entropy', 'max_depth': 6, 'min_samples_split': 20},\n",
       "  {'criterion': 'entropy', 'max_depth': 6, 'min_samples_split': 50},\n",
       "  {'criterion': 'entropy', 'max_depth': 9, 'min_samples_split': 5},\n",
       "  {'criterion': 'entropy', 'max_depth': 9, 'min_samples_split': 10},\n",
       "  {'criterion': 'entropy', 'max_depth': 9, 'min_samples_split': 20},\n",
       "  {'criterion': 'entropy', 'max_depth': 9, 'min_samples_split': 50},\n",
       "  {'criterion': 'entropy', 'max_depth': 12, 'min_samples_split': 5},\n",
       "  {'criterion': 'entropy', 'max_depth': 12, 'min_samples_split': 10},\n",
       "  {'criterion': 'entropy', 'max_depth': 12, 'min_samples_split': 20},\n",
       "  {'criterion': 'entropy', 'max_depth': 12, 'min_samples_split': 50},\n",
       "  {'criterion': 'entropy', 'max_depth': 15, 'min_samples_split': 5},\n",
       "  {'criterion': 'entropy', 'max_depth': 15, 'min_samples_split': 10},\n",
       "  {'criterion': 'entropy', 'max_depth': 15, 'min_samples_split': 20},\n",
       "  {'criterion': 'entropy', 'max_depth': 15, 'min_samples_split': 50},\n",
       "  {'criterion': 'entropy', 'max_depth': 18, 'min_samples_split': 5},\n",
       "  {'criterion': 'entropy', 'max_depth': 18, 'min_samples_split': 10},\n",
       "  {'criterion': 'entropy', 'max_depth': 18, 'min_samples_split': 20},\n",
       "  {'criterion': 'entropy', 'max_depth': 18, 'min_samples_split': 50}],\n",
       " 'rank_test_score': array([41, 41, 41, 41, 37, 37, 37, 40, 24, 25, 26, 27, 12, 14, 13, 16,  6,\n",
       "         5,  7, 11,  3,  1,  2,  4, 45, 45, 45, 45, 33, 33, 33, 33, 30, 29,\n",
       "        31, 32, 21, 22, 23, 28, 17, 15, 19, 20, 10,  8,  9, 18],\n",
       "       dtype=int32),\n",
       " 'split0_test_score': array([0.75983289, 0.75983289, 0.75983289, 0.75983289, 0.77307793,\n",
       "        0.77307793, 0.77307793, 0.77295924, 0.81542405, 0.81540032,\n",
       "        0.8149968 , 0.81449833, 0.83272805, 0.83246695, 0.83182606,\n",
       "        0.82843172, 0.83854352, 0.83913694, 0.83738043, 0.83377246,\n",
       "        0.84744475, 0.84915379, 0.84697002, 0.84388426, 0.75734055,\n",
       "        0.75734055, 0.75734055, 0.75734055, 0.78195542, 0.78195542,\n",
       "        0.78195542, 0.78195542, 0.80431532, 0.804434  , 0.80400674,\n",
       "        0.80291486, 0.81948302, 0.81962544, 0.81824871, 0.81442712,\n",
       "        0.83213463, 0.83239574, 0.83208716, 0.82532222, 0.83904199,\n",
       "        0.84001519, 0.84001519, 0.83109022]),\n",
       " 'split0_train_score': array([0.75723408, 0.75723408, 0.75723408, 0.75723408, 0.7722126 ,\n",
       "        0.7722126 , 0.7722126 , 0.77214138, 0.82410331, 0.82396088,\n",
       "        0.82339117, 0.82163458, 0.86213117, 0.86061196, 0.85669523,\n",
       "        0.84836328, 0.90089491, 0.89436703, 0.88356636, 0.865858  ,\n",
       "        0.93754599, 0.92562964, 0.9090607 , 0.88472951, 0.75450424,\n",
       "        0.75450424, 0.75450424, 0.75450424, 0.78030717, 0.78030717,\n",
       "        0.78030717, 0.78030717, 0.81100007, 0.81076269, 0.81019299,\n",
       "        0.80867377, 0.84475515, 0.84321219, 0.8403874 , 0.83336103,\n",
       "        0.8922069 , 0.885228  , 0.87464097, 0.85671897, 0.93640658,\n",
       "        0.92313718, 0.90362475, 0.87326418]),\n",
       " 'split1_test_score': array([0.75524011, 0.75524011, 0.75524011, 0.75524011, 0.77990362,\n",
       "        0.77990362, 0.77990362, 0.77983241, 0.81448952, 0.81432336,\n",
       "        0.81406224, 0.81311273, 0.83293375, 0.83219788, 0.83305244,\n",
       "        0.82975289, 0.8401975 , 0.84010255, 0.83996012, 0.83720654,\n",
       "        0.84753246, 0.84912289, 0.85061837, 0.84639305, 0.75146581,\n",
       "        0.75146581, 0.75146581, 0.75146581, 0.7785031 , 0.7785031 ,\n",
       "        0.7785031 , 0.7785031 , 0.80084032, 0.80112517, 0.80022313,\n",
       "        0.79915494, 0.81434709, 0.81408598, 0.81327889, 0.81085764,\n",
       "        0.82583616, 0.82583616, 0.82462554, 0.82180075, 0.83267263,\n",
       "        0.83272011, 0.83191302, 0.82657203]),\n",
       " 'split1_train_score': array([0.75916827, 0.75916827, 0.75916827, 0.75916827, 0.78864915,\n",
       "        0.78862541, 0.78862541, 0.7885542 , 0.82966603, 0.8292625 ,\n",
       "        0.82890645, 0.827055  , 0.86845166, 0.86605426, 0.86218519,\n",
       "        0.85418595, 0.90488737, 0.89859717, 0.88829547, 0.87274799,\n",
       "        0.94552446, 0.93308647, 0.91639963, 0.89228323, 0.75565525,\n",
       "        0.75565525, 0.75565525, 0.75565525, 0.78418666, 0.78418666,\n",
       "        0.78411545, 0.78411545, 0.81485438, 0.81468822, 0.81378623,\n",
       "        0.81129388, 0.848774  , 0.84732607, 0.8441691 , 0.83757032,\n",
       "        0.89942795, 0.89297159, 0.88167296, 0.8639417 , 0.94471742,\n",
       "        0.9306416 , 0.90892259, 0.87830236]),\n",
       " 'std_fit_time': array([6.92462921e-03, 2.29954720e-04, 3.64005566e-03, 1.05857849e-03,\n",
       "        1.90703869e-02, 2.32946873e-03, 9.45329666e-05, 1.38005018e-02,\n",
       "        4.76109982e-03, 3.99553776e-03, 1.49117947e-01, 1.16141915e-01,\n",
       "        2.31540203e-02, 1.30474567e-02, 7.23600388e-04, 2.61604786e-03,\n",
       "        1.71436071e-02, 2.27509737e-02, 6.33239746e-03, 4.13169861e-02,\n",
       "        4.35544252e-02, 3.91479731e-02, 1.23479366e-02, 1.75416470e-03,\n",
       "        1.73059702e-02, 1.27614737e-02, 5.71644306e-03, 7.10010529e-04,\n",
       "        4.69505787e-03, 2.80704498e-02, 2.26342678e-03, 1.95064545e-02,\n",
       "        4.55638409e-01, 9.09399986e-03, 2.11604834e-02, 1.03725195e-02,\n",
       "        1.11678123e-01, 3.72985601e-02, 4.23097610e-03, 6.50745630e-02,\n",
       "        1.40094757e-02, 6.42180443e-02, 1.42586231e-03, 1.18490458e-02,\n",
       "        1.43833041e-01, 9.32619572e-02, 1.94714904e-01, 1.14595890e-03]),\n",
       " 'std_score_time': array([1.11901760e-03, 7.35044479e-04, 7.21573830e-04, 3.03864479e-04,\n",
       "        1.18017197e-04, 6.09993935e-04, 7.00950623e-04, 3.31997871e-04,\n",
       "        5.10573387e-04, 1.03557110e-03, 6.13641739e-03, 3.41415405e-04,\n",
       "        3.33797932e-03, 7.03096390e-04, 5.30958176e-04, 3.95536423e-04,\n",
       "        1.07884407e-04, 1.19209290e-07, 2.53915787e-04, 8.10623169e-05,\n",
       "        8.57949257e-04, 1.12644434e-02, 4.71591949e-04, 3.44157219e-04,\n",
       "        2.59995461e-04, 1.47438049e-03, 6.36577606e-05, 3.39984894e-04,\n",
       "        1.36744976e-03, 3.63588333e-04, 1.56164169e-05, 1.79648399e-03,\n",
       "        1.58202648e-03, 2.17914581e-04, 4.50968742e-04, 3.51428986e-04,\n",
       "        6.19304180e-03, 8.54730606e-05, 1.89542770e-05, 7.35521317e-04,\n",
       "        1.59978867e-04, 1.35898590e-05, 1.12414360e-03, 3.55803967e-03,\n",
       "        4.75955009e-03, 9.09566879e-04, 3.28540802e-04, 1.86944008e-03]),\n",
       " 'std_test_score': array([2.29639345e-03, 2.29639345e-03, 2.29639345e-03, 2.29639345e-03,\n",
       "        3.41284872e-03, 3.41284872e-03, 3.41284872e-03, 3.43658364e-03,\n",
       "        4.67267452e-04, 5.38481251e-04, 4.67277594e-04, 6.92798008e-04,\n",
       "        1.02849195e-04, 1.34534457e-04, 6.13189310e-04, 6.60584227e-04,\n",
       "        8.26988476e-04, 4.82805254e-04, 1.28984690e-03, 1.71704067e-03,\n",
       "        4.38541732e-05, 1.54496216e-05, 1.82417381e-03, 1.25439467e-03,\n",
       "        2.93737174e-03, 2.93737174e-03, 2.93737174e-03, 2.93737174e-03,\n",
       "        1.72616243e-03, 1.72616243e-03, 1.72616243e-03, 1.72616243e-03,\n",
       "        1.73750053e-03, 1.65441560e-03, 1.89180320e-03, 1.87996024e-03,\n",
       "        2.56796157e-03, 2.76972902e-03, 2.48490876e-03, 1.78473599e-03,\n",
       "        3.14923601e-03, 3.27978741e-03, 3.73081190e-03, 1.76073961e-03,\n",
       "        3.18467866e-03, 3.64754159e-03, 4.05108327e-03, 2.25909535e-03]),\n",
       " 'std_train_score': array([0.0009671 , 0.0009671 , 0.0009671 , 0.0009671 , 0.00821828,\n",
       "        0.00820641, 0.00820641, 0.00820641, 0.00278136, 0.00265081,\n",
       "        0.00275764, 0.00271021, 0.00316024, 0.00272115, 0.00274498,\n",
       "        0.00291134, 0.00199623, 0.00211507, 0.00236456, 0.00344499,\n",
       "        0.00398923, 0.00372841, 0.00366947, 0.00377686, 0.00057551,\n",
       "        0.00057551, 0.00057551, 0.00057551, 0.00193975, 0.00193975,\n",
       "        0.00190414, 0.00190414, 0.00192715, 0.00196276, 0.00179662,\n",
       "        0.00131006, 0.00200943, 0.00205694, 0.00189085, 0.00210465,\n",
       "        0.00361052, 0.00387179, 0.003516  , 0.00361137, 0.00415542,\n",
       "        0.00375221, 0.00264892, 0.00251909])}"
      ]
     },
     "metadata": {},
     "output_type": "display_data"
    }
   ],
   "source": [
    "# Set up the parameter grid to seaerch\n",
    "param_grid ={'criterion': ['gini', \"entropy\"], \\\n",
    "             'max_depth': list(range(3, 20, 3)), \\\n",
    "             'min_samples_split': [5,10,20,50] }\n",
    "\n",
    "# Perform the search\n",
    "my_tuned_tree = GridSearchCV(tree.DecisionTreeClassifier(), \\\n",
    "                                param_grid, cv=5, verbose = 0, \\\n",
    "                            return_train_score=True)\n",
    "my_tuned_tree.fit(X_train, Y_train)\n",
    "\n",
    "# Print details\n",
    "print(\"Best parameters set found on development set:\")\n",
    "display(my_tuned_tree.best_params_)\n",
    "display(my_tuned_tree.best_score_)\n",
    "display(my_tuned_tree.cv_results_)\n",
    "\n",
    "#about 80% accuracy"
   ]
  },
  {
   "cell_type": "code",
   "execution_count": 7,
   "metadata": {},
   "outputs": [
    {
     "data": {
      "text/plain": [
       "0.8606746987951808"
      ]
     },
     "execution_count": 7,
     "metadata": {},
     "output_type": "execute_result"
    }
   ],
   "source": [
    "# Best decision tree parameters\n",
    "decision_tree = tree.DecisionTreeClassifier(criterion=\"gini\", max_depth= 18 , min_samples_split= 10)\n",
    "decision_tree.fit(X_train, Y_train)\n",
    "pred = decision_tree.predict(X_test)\n",
    "metrics.accuracy_score(pred, Y_test)"
   ]
  },
  {
   "cell_type": "markdown",
   "metadata": {},
   "source": [
    "Fitting a random forest classifier "
   ]
  },
  {
   "cell_type": "code",
   "execution_count": 8,
   "metadata": {},
   "outputs": [
    {
     "name": "stdout",
     "output_type": "stream",
     "text": [
      "Best parameters set found on development set:\n",
      "{'max_features': 4, 'n_estimators': 300, 'min_samples_split': 5}\n",
      "0.8910344663881504\n"
     ]
    }
   ],
   "source": [
    "# Set up the parameter grid to seaerch\n",
    "param_grid = [\n",
    " {'n_estimators': list(range(200, 501, 100)), 'max_features': list(range(1, 7, 3)), 'min_samples_split': [5,10] }\n",
    "]\n",
    "\n",
    "# Perform the search\n",
    "my_tuned_model = GridSearchCV(ensemble.RandomForestClassifier(), param_grid, cv=2)\n",
    "my_tuned_model.fit(X_train, Y_train)\n",
    "\n",
    "# Print details\n",
    "print(\"Best parameters set found on development set:\")\n",
    "print(my_tuned_model.best_params_)\n",
    "print(my_tuned_model.best_score_)"
   ]
  },
  {
   "cell_type": "code",
   "execution_count": 9,
   "metadata": {},
   "outputs": [
    {
     "data": {
      "text/plain": [
       "0.9045542168674698"
      ]
     },
     "execution_count": 9,
     "metadata": {},
     "output_type": "execute_result"
    }
   ],
   "source": [
    "# Best random forest parameters\n",
    "random_forest = ensemble.RandomForestClassifier(min_samples_split=5, max_features=4, n_estimators=300)\n",
    "random_forest.fit(X_train, Y_train)\n",
    "pred = random_forest.predict(X_test)\n",
    "metrics.accuracy_score(pred, Y_test)"
   ]
  },
  {
   "cell_type": "markdown",
   "metadata": {},
   "source": [
    "Bagging classifier "
   ]
  },
  {
   "cell_type": "code",
   "execution_count": 10,
   "metadata": {},
   "outputs": [
    {
     "name": "stdout",
     "output_type": "stream",
     "text": [
      "Best parameters set found on development set:\n",
      "{'max_features': 0.8999999999999999, 'max_samples': 0.8999999999999999, 'n_estimators': 21}\n",
      "0.893966008355488\n"
     ]
    }
   ],
   "source": [
    "#bagging\n",
    "# Set up the parameter grid to seaerch\n",
    "param_grid = [\n",
    " {'n_estimators': list(range(5, 25, 1)), \"max_samples\":list(frange(0.5,1,0.1)), \"max_features\": list(frange(0.5,1,0.1))}\n",
    "]\n",
    "\n",
    "# Perform the search\n",
    "my_tuned_model = GridSearchCV(ensemble.BaggingClassifier(), param_grid, cv=5)\n",
    "my_tuned_model.fit(X_train, Y_train)\n",
    "\n",
    "# Print details\n",
    "print(\"Best parameters set found on development set:\")\n",
    "print(my_tuned_model.best_params_)\n",
    "print(my_tuned_model.best_score_)"
   ]
  },
  {
   "cell_type": "code",
   "execution_count": 11,
   "metadata": {},
   "outputs": [
    {
     "data": {
      "text/plain": [
       "0.903421686746988"
      ]
     },
     "execution_count": 11,
     "metadata": {},
     "output_type": "execute_result"
    }
   ],
   "source": [
    "# Best bagging parameters\n",
    "bagging = ensemble.BaggingClassifier(n_estimators=21, max_features = 0.9, max_samples=0.9)\n",
    "bagging.fit(X_train, Y_train)\n",
    "pred = bagging.predict(X_test)\n",
    "metrics.accuracy_score(pred, Y_test)"
   ]
  },
  {
   "cell_type": "markdown",
   "metadata": {},
   "source": [
    "Boosting Classifier "
   ]
  },
  {
   "cell_type": "code",
   "execution_count": 12,
   "metadata": {},
   "outputs": [
    {
     "data": {
      "text/plain": [
       "0.940289118875807"
      ]
     },
     "execution_count": 12,
     "metadata": {},
     "output_type": "execute_result"
    }
   ],
   "source": [
    "# Using decision tree classifier with boosting\n",
    "boosting = ensemble.AdaBoostClassifier(base_estimator = tree.DecisionTreeClassifier(criterion=\"gini\", max_depth= 9, min_samples_leaf = 50), \\\n",
    "                                       n_estimators=500)\n",
    "\n",
    "boosting.fit(X_train, Y_train)\n",
    "pred = boosting.predict(X_train)\n",
    "metrics.accuracy_score(pred, Y_train)"
   ]
  },
  {
   "cell_type": "markdown",
   "metadata": {},
   "source": [
    "Neural network classifier "
   ]
  },
  {
   "cell_type": "code",
   "execution_count": 13,
   "metadata": {},
   "outputs": [
    {
     "name": "stdout",
     "output_type": "stream",
     "text": [
      "_________________________________________________________________\n",
      "Layer (type)                 Output Shape              Param #   \n",
      "=================================================================\n",
      "dense_1 (Dense)              (None, 512)               4608      \n",
      "_________________________________________________________________\n",
      "activation_1 (Activation)    (None, 512)               0         \n",
      "_________________________________________________________________\n",
      "dropout_1 (Dropout)          (None, 512)               0         \n",
      "_________________________________________________________________\n",
      "dense_2 (Dense)              (None, 512)               262656    \n",
      "_________________________________________________________________\n",
      "activation_2 (Activation)    (None, 512)               0         \n",
      "_________________________________________________________________\n",
      "dropout_2 (Dropout)          (None, 512)               0         \n",
      "_________________________________________________________________\n",
      "dense_3 (Dense)              (None, 4)                 2052      \n",
      "_________________________________________________________________\n",
      "activation_3 (Activation)    (None, 4)                 0         \n",
      "=================================================================\n",
      "Total params: 269,316\n",
      "Trainable params: 269,316\n",
      "Non-trainable params: 0\n",
      "_________________________________________________________________\n"
     ]
    }
   ],
   "source": [
    "model_mlp = Sequential()\n",
    "model_mlp.add(Dense(512, input_shape=(8,)))\n",
    "model_mlp.add(Activation('relu'))\n",
    "model_mlp.add(Dropout(0.2))\n",
    "model_mlp.add(Dense(512))\n",
    "model_mlp.add(Activation('relu'))\n",
    "model_mlp.add(Dropout(0.2))\n",
    "model_mlp.add(Dense(4))\n",
    "model_mlp.add(Activation('softmax'))\n",
    "model_mlp.summary()"
   ]
  },
  {
   "cell_type": "code",
   "execution_count": 14,
   "metadata": {},
   "outputs": [],
   "source": [
    "model_mlp.compile(loss='categorical_crossentropy', optimizer=adam(lr=1e-3), metrics=['accuracy'])\n"
   ]
  },
  {
   "cell_type": "code",
   "execution_count": 15,
   "metadata": {},
   "outputs": [],
   "source": [
    "# Splitting training data into training and validation data for mlp\n",
    "x_train, x_valid, y_train, y_valid = train_test_split(X_train, Y_train, random_state=0, test_size = 0.3, train_size = 0.7)"
   ]
  },
  {
   "cell_type": "code",
   "execution_count": 16,
   "metadata": {},
   "outputs": [
    {
     "name": "stdout",
     "output_type": "stream",
     "text": [
      "Train on 58979 samples, validate on 25277 samples\n",
      "Epoch 1/20\n",
      "58979/58979 [==============================] - 29s 497us/step - loss: 0.4523 - acc: 0.8121 - val_loss: 0.3526 - val_acc: 0.8503\n",
      "Epoch 2/20\n",
      "58979/58979 [==============================] - 25s 417us/step - loss: 0.2784 - acc: 0.8914 - val_loss: 0.2194 - val_acc: 0.9070\n",
      "Epoch 3/20\n",
      "58979/58979 [==============================] - 32s 542us/step - loss: 0.2243 - acc: 0.9069 - val_loss: 0.1771 - val_acc: 0.9282\n",
      "Epoch 4/20\n",
      "58979/58979 [==============================] - 26s 447us/step - loss: 0.1961 - acc: 0.9200 - val_loss: 0.1377 - val_acc: 0.9497\n",
      "Epoch 5/20\n",
      "58979/58979 [==============================] - 29s 492us/step - loss: 0.1805 - acc: 0.9256 - val_loss: 0.1333 - val_acc: 0.9481\n",
      "Epoch 6/20\n",
      "58979/58979 [==============================] - 39s 659us/step - loss: 0.1756 - acc: 0.9287 - val_loss: 0.2277 - val_acc: 0.8980\n",
      "Epoch 7/20\n",
      "58979/58979 [==============================] - 36s 605us/step - loss: 0.1641 - acc: 0.9325 - val_loss: 0.1436 - val_acc: 0.9444\n",
      "Epoch 8/20\n",
      "58979/58979 [==============================] - 29s 496us/step - loss: 0.1593 - acc: 0.9326 - val_loss: 0.1611 - val_acc: 0.9348\n",
      "Epoch 9/20\n",
      "58979/58979 [==============================] - 28s 472us/step - loss: 0.1528 - acc: 0.9368 - val_loss: 0.1042 - val_acc: 0.9614\n",
      "Epoch 10/20\n",
      "58979/58979 [==============================] - 26s 446us/step - loss: 0.1491 - acc: 0.9377 - val_loss: 0.1810 - val_acc: 0.9255\n",
      "Epoch 11/20\n",
      "58979/58979 [==============================] - 30s 506us/step - loss: 0.1440 - acc: 0.9414 - val_loss: 0.1344 - val_acc: 0.9440\n",
      "Epoch 12/20\n",
      "58979/58979 [==============================] - 27s 454us/step - loss: 0.1390 - acc: 0.9415 - val_loss: 0.1620 - val_acc: 0.9318\n",
      "Epoch 13/20\n",
      "58979/58979 [==============================] - 30s 503us/step - loss: 0.1357 - acc: 0.9435 - val_loss: 0.1172 - val_acc: 0.9504\n",
      "Epoch 14/20\n",
      "58979/58979 [==============================] - 29s 485us/step - loss: 0.1363 - acc: 0.9449 - val_loss: 0.1035 - val_acc: 0.9612\n",
      "Epoch 15/20\n",
      "58979/58979 [==============================] - 30s 514us/step - loss: 0.1305 - acc: 0.9472 - val_loss: 0.1086 - val_acc: 0.9551\n",
      "Epoch 16/20\n",
      "58979/58979 [==============================] - 27s 462us/step - loss: 0.1291 - acc: 0.9477 - val_loss: 0.1022 - val_acc: 0.9575\n",
      "Epoch 17/20\n",
      "58979/58979 [==============================] - 26s 445us/step - loss: 0.1257 - acc: 0.9476 - val_loss: 0.1026 - val_acc: 0.9590\n",
      "Epoch 18/20\n",
      "58979/58979 [==============================] - 26s 441us/step - loss: 0.1253 - acc: 0.9484 - val_loss: 0.1079 - val_acc: 0.9521\n",
      "Epoch 19/20\n",
      "58979/58979 [==============================] - 26s 447us/step - loss: 0.1187 - acc: 0.9513 - val_loss: 0.0998 - val_acc: 0.9582\n",
      "Epoch 20/20\n",
      "58979/58979 [==============================] - 28s 479us/step - loss: 0.1178 - acc: 0.9505 - val_loss: 0.1057 - val_acc: 0.9577\n"
     ]
    },
    {
     "data": {
      "text/plain": [
       "<keras.callbacks.History at 0x124e99a58>"
      ]
     },
     "execution_count": 16,
     "metadata": {},
     "output_type": "execute_result"
    }
   ],
   "source": [
    "# Convert the singl column label into a dummy coded label\n",
    "y_train = to_categorical(np.asarray(y_train))\n",
    "y_valid_wide = to_categorical(np.asarray(y_valid))\n",
    "model_mlp.fit(np.asfarray(x_train), np.asfarray(y_train), \\\n",
    "          epochs=20, batch_size=32, verbose=1, \\\n",
    "          validation_data=(np.asfarray(x_valid), np.asfarray(y_valid_wide)))"
   ]
  },
  {
   "cell_type": "code",
   "execution_count": 17,
   "metadata": {},
   "outputs": [
    {
     "name": "stdout",
     "output_type": "stream",
     "text": [
      "0.9577715533611849\n"
     ]
    }
   ],
   "source": [
    "# Make a set of predictions for the training data\n",
    "y_pred = model_mlp.predict_classes(np.asfarray(X_train), batch_size=32)\n",
    "\n",
    "# Print performance details\n",
    "print(metrics.accuracy_score(Y_train, y_pred))"
   ]
  },
  {
   "cell_type": "markdown",
   "metadata": {},
   "source": [
    "Now to test which classifier performs best and retrain the chosen classifier on the full dataset"
   ]
  },
  {
   "cell_type": "code",
   "execution_count": 18,
   "metadata": {},
   "outputs": [],
   "source": [
    "A = {\"Decision Tree\": decision_tree, \"Random Forest\": random_forest, \"Bagging\": bagging, \"Boosting\": boosting, \"Neural Net\": model_mlp}"
   ]
  },
  {
   "cell_type": "code",
   "execution_count": 19,
   "metadata": {},
   "outputs": [
    {
     "name": "stdout",
     "output_type": "stream",
     "text": [
      "Confusion Matrix for Decision Tree\n",
      "[[17050   168  2196   186]\n",
      " [  339   734   425     4]\n",
      " [ 1240   241 17234   205]\n",
      " [  360     0   418   700]]\n",
      "Accuracy for Decision Tree\n",
      "0.8606746987951808 \n",
      "\n",
      "Confusion Matrix for Bagging\n",
      "[[17909    48  1615    28]\n",
      " [  400   684   418     0]\n",
      " [  565    55 18260    40]\n",
      " [  399     0   440   639]]\n",
      "Accuracy for Bagging\n",
      "0.903421686746988 \n",
      "\n",
      "Confusion Matrix for Boosting\n",
      "[[17779    52  1690    79]\n",
      " [  333   850   319     0]\n",
      " [ 2343   103 16368   106]\n",
      " [  300     0   291   887]]\n",
      "Accuracy for Boosting\n",
      "0.8646746987951808 \n",
      "\n",
      "Confusion Matrix for Neural Net\n",
      "[[19238     3   297    62]\n",
      " [  412   826   264     0]\n",
      " [  519     2 18375    24]\n",
      " [  159     0   109  1210]]\n",
      "Accuracy for Neural Net\n",
      "0.9553975903614458 \n",
      "\n",
      "Confusion Matrix for Random Forest\n",
      "[[17849    21  1711    19]\n",
      " [  377   648   477     0]\n",
      " [  467    28 18407    18]\n",
      " [  379     0   464   635]]\n",
      "Accuracy for Random Forest\n",
      "0.9045542168674698 \n",
      "\n"
     ]
    }
   ],
   "source": [
    "# Evaluating the performance of all of the classifiers \n",
    "accuracy_table = pd.DataFrame(index = [\"Accuracy\"], columns=A.keys())\n",
    "maximum = 0\n",
    "for keys, items in A.items():\n",
    "    if keys == \"Neural Net\":\n",
    "        pred = items.predict_classes(np.asfarray(X_test))\n",
    "        X = metrics.accuracy_score(pred, Y_test)\n",
    "    else:\n",
    "        pred = items.predict(X_test)\n",
    "        X = metrics.accuracy_score(pred, Y_test)\n",
    "    print(\"Confusion Matrix for\", keys)\n",
    "    print(metrics.confusion_matrix(Y_test, pred))\n",
    "    print(\"Accuracy for\", keys)\n",
    "    print(X, \"\\n\")\n",
    "    if X>maximum:\n",
    "        maximum = X\n",
    "        classifier = items\n",
    "        name = keys\n",
    "    accuracy_table.loc[\"Accuracy\",keys] = X"
   ]
  },
  {
   "cell_type": "code",
   "execution_count": 20,
   "metadata": {},
   "outputs": [
    {
     "data": {
      "text/html": [
       "<div>\n",
       "<style scoped>\n",
       "    .dataframe tbody tr th:only-of-type {\n",
       "        vertical-align: middle;\n",
       "    }\n",
       "\n",
       "    .dataframe tbody tr th {\n",
       "        vertical-align: top;\n",
       "    }\n",
       "\n",
       "    .dataframe thead th {\n",
       "        text-align: right;\n",
       "    }\n",
       "</style>\n",
       "<table border=\"1\" class=\"dataframe\">\n",
       "  <thead>\n",
       "    <tr style=\"text-align: right;\">\n",
       "      <th></th>\n",
       "      <th>Decision Tree</th>\n",
       "      <th>Bagging</th>\n",
       "      <th>Boosting</th>\n",
       "      <th>Neural Net</th>\n",
       "      <th>Random Forest</th>\n",
       "    </tr>\n",
       "  </thead>\n",
       "  <tbody>\n",
       "    <tr>\n",
       "      <th>Accuracy</th>\n",
       "      <td>0.860675</td>\n",
       "      <td>0.903422</td>\n",
       "      <td>0.864675</td>\n",
       "      <td>0.955398</td>\n",
       "      <td>0.904554</td>\n",
       "    </tr>\n",
       "  </tbody>\n",
       "</table>\n",
       "</div>"
      ],
      "text/plain": [
       "         Decision Tree   Bagging  Boosting Neural Net Random Forest\n",
       "Accuracy      0.860675  0.903422  0.864675   0.955398      0.904554"
      ]
     },
     "execution_count": 20,
     "metadata": {},
     "output_type": "execute_result"
    }
   ],
   "source": [
    "accuracy_table"
   ]
  },
  {
   "cell_type": "code",
   "execution_count": 21,
   "metadata": {},
   "outputs": [
    {
     "name": "stdout",
     "output_type": "stream",
     "text": [
      "Best classifier is: Neural Net with accuracy of: 0.9553975903614458\n"
     ]
    }
   ],
   "source": [
    "# Saving the best model\n",
    "print(\"Best classifier is:\", name, \"with accuracy of:\", maximum)\n",
    "if name == \"Neural Net\":\n",
    "    filepath = \"task1.mod\"\n",
    "    classifier.save(filepath)\n",
    "else:\n",
    "    joblib.dump(classifier, 'task1.pkl') "
   ]
  }
 ],
 "metadata": {
  "kernelspec": {
   "display_name": "Python 3",
   "language": "python",
   "name": "python3"
  },
  "language_info": {
   "codemirror_mode": {
    "name": "ipython",
    "version": 3
   },
   "file_extension": ".py",
   "mimetype": "text/x-python",
   "name": "python",
   "nbconvert_exporter": "python",
   "pygments_lexer": "ipython3",
   "version": "3.5.5"
  }
 },
 "nbformat": 4,
 "nbformat_minor": 2
}
